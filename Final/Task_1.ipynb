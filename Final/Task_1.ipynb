{
 "nbformat": 4,
 "nbformat_minor": 0,
 "metadata": {
  "kernelspec": {
   "name": "python3",
   "language": "python",
   "display_name": "Python 3"
  },
  "language_info": {
   "codemirror_mode": {
    "name": "ipython",
    "version": 3
   },
   "file_extension": ".py",
   "mimetype": "text/x-python",
   "name": "python",
   "nbconvert_exporter": "python",
   "pygments_lexer": "ipython3",
   "version": "3.6.6"
  },
  "colab": {
   "name": "Task_1.ipynb",
   "provenance": []
  }
 },
 "cells": [
  {
   "cell_type": "markdown",
   "metadata": {
    "collapsed": true,
    "id": "wiX18yIt0LD6"
   },
   "source": [
    "ImageAI : Object Detection"
   ]
  },
  {
   "cell_type": "markdown",
   "metadata": {
    "id": "qy9oP-te0LD9"
   },
   "source": [
    "Библиотека ImageAI предоставляет очень удобные и мощные методы для обнаружения объектов на изображениях. Чтобы приступить к обнаружению объектов, необходимо загрузить уже обученные модели обнаружения объектов. Воспользуемся и сравним две модели RetinaNet, YOLO:"
   ]
  },
  {
   "cell_type": "code",
   "metadata": {
    "colab": {
     "base_uri": "https://localhost:8080/"
    },
    "id": "JTZR-wGG0LD-",
    "outputId": "45776618-24e0-43a8-9571-a0e740243baf"
   },
   "source": [
    "!wget https://github.com/OlafenwaMoses/ImageAI/releases/download/1.0/yolo.h5\n",
    "!wget https://github.com/OlafenwaMoses/ImageAI/releases/download/1.0/resnet50_coco_best_v2.0.1.h5"
   ],
   "execution_count": 1,
   "outputs": [
    {
     "name": "stderr",
     "output_type": "stream",
     "text": [
      "\"wget\" ­Ґ пў«пҐвбп ў­гваҐ­­Ґ© Ё«Ё ў­Ґи­Ґ©\n",
      "Є®¬ ­¤®©, ЁбЇ®«­пҐ¬®© Їа®Ја ¬¬®© Ё«Ё Ї ЄҐв­л¬ д ©«®¬.\n",
      "\"wget\" ­Ґ пў«пҐвбп ў­гваҐ­­Ґ© Ё«Ё ў­Ґи­Ґ©\n",
      "Є®¬ ­¤®©, ЁбЇ®«­пҐ¬®© Їа®Ја ¬¬®© Ё«Ё Ї ЄҐв­л¬ д ©«®¬.\n"
     ]
    }
   ]
  },
  {
   "cell_type": "markdown",
   "metadata": {
    "id": "rEsJXnJ80LEA"
   },
   "source": [
    "Установим библиотеку компьютерного зрения — OpenCV, библиотеку ImageAI, которая позволяет выполнить обнаружение объектов на изображениях, а также библиотеку машинного обучения TensorFlow и нейросетевую библиотеку Keras конкретных версий, чтобы все заработало :)"
   ]
  },
  {
   "cell_type": "code",
   "metadata": {
    "colab": {
     "base_uri": "https://localhost:8080/"
    },
    "id": "q7oPS76U0QQO",
    "outputId": "2a7abfa8-9178-4a5f-c876-409b5632591b"
   },
   "source": [
    "%tensorflow_version 1.x\n",
    "import warnings\n",
    "warnings.filterwarnings('ignore')"
   ],
   "execution_count": 2,
   "outputs": [
    {
     "name": "stderr",
     "output_type": "stream",
     "text": [
      "UsageError: Line magic function `%tensorflow_version` not found.\n"
     ]
    }
   ]
  },
  {
   "cell_type": "code",
   "metadata": {
    "colab": {
     "base_uri": "https://localhost:8080/"
    },
    "id": "vv8-l37o0LEA",
    "outputId": "65848f82-8abf-4186-92df-c4a1ead71b46"
   },
   "source": [
    "!pip install --upgrade pip\n",
    "!pip install opencv-python\n",
    "!pip install https://github.com/OlafenwaMoses/ImageAI/releases/download/2.0.2/imageai-2.0.2-py3-none-any.whl\n",
    "!pip install keras==2.2.4"
   ],
   "execution_count": null,
   "outputs": []
  },
  {
   "cell_type": "markdown",
   "metadata": {
    "id": "d0qvBHhg0LEB"
   },
   "source": [
    "Немного кода на языке Python. Во первых подключаем библиотеки:"
   ]
  },
  {
   "cell_type": "code",
   "metadata": {
    "colab": {
     "base_uri": "https://localhost:8080/"
    },
    "id": "60K76ftm0LEC",
    "outputId": "8c69a8b2-4e57-429a-cfd8-dbdc4a73a970"
   },
   "source": [
    "from imageai.Detection import ObjectDetection\n",
    "from IPython.display import Image\n",
    "import os"
   ],
   "execution_count": null,
   "outputs": []
  },
  {
   "cell_type": "markdown",
   "metadata": {
    "id": "WS0W8OfG0LED"
   },
   "source": [
    "Подгружаем обученную модель RetinaNet"
   ]
  },
  {
   "cell_type": "code",
   "metadata": {
    "colab": {
     "base_uri": "https://localhost:8080/"
    },
    "id": "5moKbhJe0LED",
    "outputId": "77565bdc-8e96-4fc1-9c97-1a0c25c1519c"
   },
   "source": [
    "detector = ObjectDetection()\n",
    "detector.setModelTypeAsRetinaNet() #Для модели YOLO заменить на detector.setModelTypeAsYOLOv3()\n",
    "detector.setModelPath('resnet50_coco_best_v2.0.1.h5') #Для модели YOLO заменить на detector.setModelPath(\"yolo.h5\")\n",
    "detector.loadModel()"
   ],
   "execution_count": null,
   "outputs": []
  },
  {
   "cell_type": "markdown",
   "metadata": {
    "id": "hhu1zv5q0LEE"
   },
   "source": [
    "Выполняем распознавание объектов для изображения с именем 0.jpg и сохраняем результат в файл 0_out.jpg"
   ]
  },
  {
   "cell_type": "code",
   "metadata": {
    "id": "jLmx9XKl0LEF"
   },
   "source": [
    "detector.loadModel()\n",
    "list = detector.detectObjectsFromImage(\n",
    "    input_image = '17.jpg', # Задание имени входного файла\n",
    "    output_image_path = '17_out.jpg', # Задание имени выходного файла\n",
    "    minimum_percentage_probability = 50 # Задание порога отсечения\n",
    ")"
   ],
   "execution_count": null,
   "outputs": []
  },
  {
   "cell_type": "markdown",
   "metadata": {
    "id": "Vh6LW88w0LEF"
   },
   "source": [
    "Изображение можно посмотреть в папке проекта, либо вывести на экран в блокноте:"
   ]
  },
  {
   "cell_type": "code",
   "metadata": {
    "colab": {
     "base_uri": "https://localhost:8080/",
     "height": 694
    },
    "id": "wiagMXGR0LEG",
    "outputId": "38b30f53-e6e1-4e4d-e3cd-4d50a423266b"
   },
   "source": [
    "Image(filename='17_out.jpg')"
   ],
   "execution_count": null,
   "outputs": []
  }
 ]
}