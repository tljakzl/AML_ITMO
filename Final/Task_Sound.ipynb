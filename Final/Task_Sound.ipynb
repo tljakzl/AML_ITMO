{
 "nbformat": 4,
 "nbformat_minor": 0,
 "metadata": {
  "kernelspec": {
   "name": "python3",
   "language": "python",
   "display_name": "Python 3"
  },
  "language_info": {
   "codemirror_mode": {
    "name": "ipython",
    "version": 3
   },
   "file_extension": ".py",
   "mimetype": "text/x-python",
   "name": "python",
   "nbconvert_exporter": "python",
   "pygments_lexer": "ipython3",
   "version": "3.6.6"
  },
  "colab": {
   "name": "Task_Sound.ipynb",
   "provenance": [],
   "collapsed_sections": []
  }
 },
 "cells": [
  {
   "cell_type": "markdown",
   "metadata": {
    "id": "ZNP3DTIbs2Yw"
   },
   "source": [
    "Установка необходимых библиотек"
   ]
  },
  {
   "cell_type": "code",
   "execution_count": null,
   "outputs": [],
   "source": [
    "!sudo apt-get install -y python python-dev python-pip build-essential swig git libpulse-dev\n",
    "!pip install --upgrade pip\n",
    "!pip install SpeechRecognition==3.8.1\n",
    "!pip install pocketsphinx==0.1.15"
   ],
   "metadata": {
    "collapsed": false,
    "pycharm": {
     "name": "#%%\n"
    }
   }
  },
  {
   "cell_type": "markdown",
   "metadata": {
    "id": "45vHeCFfqone"
   },
   "source": [
    "Подключение библиотеки"
   ]
  },
  {
   "cell_type": "code",
   "metadata": {
    "id": "6SH2matOqong"
   },
   "source": [
    "import speech_recognition as sr"
   ],
   "execution_count": 8,
   "outputs": []
  },
  {
   "cell_type": "markdown",
   "metadata": {
    "id": "MBSQMDVmqonn"
   },
   "source": [
    "Довольно простой код для распознавания звуковых файлов и обработки возможных ошибок:"
   ]
  },
  {
   "cell_type": "code",
   "metadata": {
    "id": "uU6kwHlPqonp",
    "colab": {
     "base_uri": "https://localhost:8080/"
    },
    "outputId": "346ae981-3797-41f3-df9e-4fe61272feeb"
   },
   "source": [
    "# Имя файла, который требуется распознать\n",
    "AUDIO_FILE = '0.wav'\n",
    "\n",
    "# Чтение файла\n",
    "r = sr.Recognizer()\n",
    "with sr.AudioFile(AUDIO_FILE) as source:\n",
    "    audio = r.record(source)\n",
    "\n",
    "# Распознавание с помощью Sphinx\n",
    "try:\n",
    "    print(\"Результат Sphinx: \" + r.recognize_sphinx(audio))\n",
    "except sr.UnknownValueError:\n",
    "    print(\"Ошибка: Sphinx could not understand audio\")\n",
    "except sr.RequestError as e:\n",
    "    print(\"Ошибка: Sphinx error; {0}\".format(e))\n",
    "\n",
    "# Распознавание с помощью Google\n",
    "try:\n",
    "    print(\"Результат Google: \" + r.recognize_google(audio))\n",
    "except sr.UnknownValueError:\n",
    "    print(\"Ошибка: Google Speech Recognition could not understand audio\")\n",
    "except sr.RequestError as e:\n",
    "    print(\"Ошибка: Could not request results from Google; {0}\".format(e))"
   ],
   "execution_count": 9,
   "outputs": [
    {
     "name": "stdout",
     "output_type": "stream",
     "text": [
      "Ошибка: Sphinx error; missing PocketSphinx module: ensure that PocketSphinx is set up correctly.\n",
      "Результат Google: enable a day keeps the doctor away\n"
     ]
    }
   ]
  }
 ]
}